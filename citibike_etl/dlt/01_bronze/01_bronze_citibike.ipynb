{
 "cells": [
  {
   "cell_type": "code",
   "execution_count": null,
   "id": "398c7e74",
   "metadata": {},
   "outputs": [],
   "source": [
    "import dlt\n",
    "from pyspark.sql.types import StructType,StructField,StringType,DecimalType, TimestampType"
   ]
  },
  {
   "cell_type": "code",
   "execution_count": null,
   "id": "a58e273b",
   "metadata": {},
   "outputs": [],
   "source": [
    "catalog = spark.conf.get(\"catalog\")"
   ]
  },
  {
   "cell_type": "code",
   "execution_count": null,
   "id": "c8464cc1",
   "metadata": {},
   "outputs": [],
   "source": [
    "schema = StructType([\n",
    "    StructField(\"ride_id\",StringType(),True),\n",
    "    StructField(\"rideable_type\",StringType(),True),\n",
    "    StructField(\"started_at\",TimestampType(),True),\n",
    "    StructField(\"ended_at\",TimestampType(),True),\n",
    "    StructField(\"start_station_name\",StringType(),True),\n",
    "    StructField(\"start_station_id\",StringType(),True),\n",
    "    StructField(\"end_station_name\",StringType(),True),\n",
    "    StructField(\"end_station_id\",StringType(),True),\n",
    "    StructField(\"start_lat\",DecimalType(),True),\n",
    "    StructField(\"start_lng\",DecimalType(),True),\n",
    "    StructField(\"end_lat\",DecimalType(),True),\n",
    "    StructField(\"end_lng\",DecimalType(),True),\n",
    "    StructField(\"member_casual\",StringType(),True),\n",
    "])"
   ]
  },
  {
   "cell_type": "code",
   "execution_count": null,
   "id": "e08d9b88",
   "metadata": {},
   "outputs": [],
   "source": [
    "@dlt.table(\n",
    "    comment=\"Bronze layer: raw Citi Bike data with ingest metadata\"\n",
    ")\n",
    "def bronze_jc_citibike():\n",
    "    df = (\n",
    "        spark.read.schema(schema).csv(f\"/Volumes/{catalog}/00_landing/source_citibike_data/JC-202503-citibike-tripdata.csv\",header=True)\n",
    "        \n",
    "    )\n",
    "    return df"
   ]
  }
 ],
 "metadata": {
  "language_info": {
   "name": "python"
  }
 },
 "nbformat": 4,
 "nbformat_minor": 5
}
