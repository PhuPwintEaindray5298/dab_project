{
 "cells": [
  {
   "cell_type": "code",
   "execution_count": null,
   "id": "337b46b6",
   "metadata": {},
   "outputs": [],
   "source": [
    "import dlt\n",
    "from pyspark.sql.functions import col,unix_timestamp,to_date"
   ]
  },
  {
   "cell_type": "code",
   "execution_count": null,
   "id": "e85b9302",
   "metadata": {},
   "outputs": [],
   "source": [
    "@dlt.table(\n",
    "    comment = \"Silver layer: cleaned and enriched Citi Bike data\"\n",
    ")\n",
    "def silver_jc_citibike():\n",
    "    df_bronze = dlt.read(\"bronze_jc_citibike\")\n",
    "    df_silver = (\n",
    "        df_bronze.withColumn(\n",
    "            \"trip_duration_mins\",\n",
    "            (unix_timestamp(col(\"ended_at\")) - unix_timestamp(col(\"started_at\")))/60\n",
    "        )\n",
    "        .withColumn(\"trip_start_date\",\n",
    "        to_date(col(\"started_at\"))\n",
    "        )\n",
    "        .select(\n",
    "            \"ride_id\",\n",
    "            \"trip_start_date\",\n",
    "            \"started_at\",\n",
    "            \"ended_at\",\n",
    "            \"start_station_name\",\n",
    "            \"end_station_name\",\n",
    "            \"trip_duration_mins\"\n",
    "        )\n",
    "    )\n",
    "    return df_silver"
   ]
  }
 ],
 "metadata": {
  "language_info": {
   "name": "python"
  }
 },
 "nbformat": 4,
 "nbformat_minor": 5
}
