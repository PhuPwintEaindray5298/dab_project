{
 "cells": [
  {
   "cell_type": "code",
   "execution_count": null,
   "id": "447d18c2",
   "metadata": {},
   "outputs": [],
   "source": [
    "import dlt\n",
    "from pyspark.sql.functions import avg, count,round"
   ]
  },
  {
   "cell_type": "code",
   "execution_count": null,
   "id": "adfa6a35",
   "metadata": {},
   "outputs": [],
   "source": [
    "@dlt.table(\n",
    "    comment=\"Gold Layer: daily ride performance metrics per station, including average duration and total trips\"\n",
    ")\n",
    "def gold_daily_station_performance():\n",
    "    df = (\n",
    "        dlt.read(\"silver_jc_citibike\").groupBy(\"trip_start_date\",\"start_station_name\").agg(\n",
    "            round(avg(\"trip_duration_mins\"),2).alias(\"avg_trip_duration_mins\"),\n",
    "            count(\"ride_id\").alias(\"total_trips\")\n",
    "        )\n",
    "    )\n",
    "    return df"
   ]
  }
 ],
 "metadata": {
  "language_info": {
   "name": "python"
  }
 },
 "nbformat": 4,
 "nbformat_minor": 5
}
